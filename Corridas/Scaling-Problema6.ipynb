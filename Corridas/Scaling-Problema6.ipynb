{
 "cells": [
  {
   "cell_type": "code",
   "execution_count": 62,
   "metadata": {},
   "outputs": [
    {
     "ename": "IndentationError",
     "evalue": "unexpected indent (<ipython-input-62-5f28d9cad999>, line 46)",
     "output_type": "error",
     "traceback": [
      "\u001b[0;36m  File \u001b[0;32m\"<ipython-input-62-5f28d9cad999>\"\u001b[0;36m, line \u001b[0;32m46\u001b[0m\n\u001b[0;31m    ax.plot(i_array,i2_array)\u001b[0m\n\u001b[0m    ^\u001b[0m\n\u001b[0;31mIndentationError\u001b[0m\u001b[0;31m:\u001b[0m unexpected indent\n"
     ]
    }
   ],
   "source": [
    "%matplotlib inline\n",
    "import os\n",
    "import numpy as np\n",
    "import matplotlib.pyplot as plt\n",
    "import pandas as pd\n",
    "from astropy.io import ascii\n",
    "import matplotlib.colors as colors\n",
    "from matplotlib import *\n",
    "import sys\n",
    "from pylab import *\n",
    "from matplotlib.colors import LogNorm\n",
    "import scipy.integrate as integrate\n",
    "import scipy\n",
    "import pymc\n",
    "from astropy.io import fits\n",
    "import math\n",
    "import os,glob\n",
    "import matplotlib.patches as mpatches\n",
    "from scipy.interpolate import splrep, splev\n",
    "import numpy.polynomial.polynomial as poly\n",
    "\n",
    "pc=0.592\n",
    "sigma=2.05\n",
    "mylist11 = []\n",
    "mylist12 = []\n",
    "\n",
    "dir_name='/home/pedro/Escritorio/Fisica-Computacional-master/Corridas/'\n",
    "base_filename='Problema6L_128'\n",
    "fig = plt.figure()\n",
    "ax = fig.add_subplot(111)\n",
    "\n",
    "\n",
    "pmax_array = np.array([])\n",
    "i2_array = np.array([])\n",
    "i_array = np.array([])\n",
    "\n",
    "filename =  os.path.join(dir_name, base_filename + \".\" + 'dat')\n",
    "data = pd.read_table(filename, header=None, sep=\"\\s+\")\n",
    "\n",
    "for i in range(data.shape[1]-1): \n",
    "    p=data.iloc[:,0]\n",
    "    ns=data.iloc[:,i+1]\n",
    "    i_array = np.append(i_array, i)\n",
    "    i2_array = np.append(i2_array, i*i)\n",
    "data=data.iloc[:,1:data.shape[1]].dot(i2_array)\n",
    "    ax.plot(i_array,i2_array)\n",
    "    \n",
    "    \n",
    "print i2_array\n",
    "#filename =  os.path.join(dir_name, base_filename + \".\" + 'dat')\n",
    "#data = pd.read_table(filename, header=None, sep=\"\\s+\")\n"
   ]
  },
  {
   "cell_type": "code",
   "execution_count": 53,
   "metadata": {},
   "outputs": [
    {
     "name": "stderr",
     "output_type": "stream",
     "text": [
      "/home/pedro/anaconda3/lib/python2.7/site-packages/ipykernel_launcher.py:37: RuntimeWarning: divide by zero encountered in log\n"
     ]
    },
    {
     "data": {
      "text/plain": [
       "<matplotlib.collections.PathCollection at 0x7f02a25cb350>"
      ]
     },
     "execution_count": 53,
     "metadata": {},
     "output_type": "execute_result"
    },
    {
     "data": {
      "image/png": "[encoded data removed]",
      "text/plain": [
       "<matplotlib.figure.Figure at 0x7f02a25cb2d0>"
      ]
     },
     "metadata": {},
     "output_type": "display_data"
    }
   ],
   "source": [
    "%matplotlib inline\n",
    "import os\n",
    "import numpy as np\n",
    "import matplotlib.pyplot as plt\n",
    "import pandas as pd\n",
    "from astropy.io import ascii\n",
    "import matplotlib.colors as colors\n",
    "from matplotlib import *\n",
    "import sys\n",
    "from pylab import *\n",
    "from matplotlib.colors import LogNorm\n",
    "import scipy.integrate as integrate\n",
    "import scipy\n",
    "import pymc\n",
    "from astropy.io import fits\n",
    "import math\n",
    "import os,glob\n",
    "import matplotlib.patches as mpatches\n",
    "from scipy.interpolate import splrep, splev\n",
    "import numpy.polynomial.polynomial as poly\n",
    "\n",
    "pc=0.592\n",
    "sigma=2.05\n",
    "mylist11 = []\n",
    "mylist12 = []\n",
    "\n",
    "\n",
    "\n",
    "dir_name='/home/pedro/Escritorio/Fisica-Computacional-master/Corridas/'\n",
    "base_filename='Problema6m2L_22'\n",
    "fig = plt.figure()\n",
    "ax = fig.add_subplot(111)\n",
    "\n",
    "\n",
    "\n",
    "\n",
    "filename =  os.path.join(dir_name, base_filename + \".\" + 'dat')\n",
    "data = pd.read_table(filename, header=None, sep=\"\\s+\")\n",
    "x =np.log(np.absolute(data.iloc[:,0]-pc))\n",
    "y =np.log(data.iloc[:,1])\n",
    "\n",
    "plt.scatter(x,y)\n",
    "\n"
   ]
  },
  {
   "cell_type": "code",
   "execution_count": null,
   "metadata": {
    "collapsed": true
   },
   "outputs": [],
   "source": [
    "data['sum'] = data.iloc[:, 1:].sum(axis=1)\n",
    "\n",
    "\n",
    "x=np.log(np.absolute(data.iloc[:,0]-pc))\n",
    "y=np.log(data[['sum']])\n",
    "\n",
    "df = pd.DataFrame({'x':x, 'y':y})\n",
    "\n",
    "x=df.iloc[:,0]\n",
    "y=df.iloc[:,1]\n",
    "\n",
    "#print y\n",
    "\n",
    "\n",
    "cond = (x>min(x)) & (x<max(x))\n",
    "xFit = x[ cond ]\n",
    "yFit = y[ cond ]\n",
    "\n",
    "x_new = np.linspace(min(xFit),max(xFit), num=len(xFit)*10)\n",
    "coefs = poly.polyfit(xFit,yFit , 1)\n",
    "ffit = poly.polyval(x_new, coefs)\n",
    "axes = plt.gca()\n",
    "print (coefs[1])\n",
    "\n",
    "\n",
    "plt.scatter(x,y)\n",
    "plt.plot(x_new,ffit, linewidth=5,color='k', label=r'$\\gamma = %.2f$' %(coefs[1]))\n",
    "plt.legend(fontsize=15.,frameon=False)\n",
    "\n",
    "\n",
    "plt.savefig('/home/pedro/Escritorio/Problema6.pdf', bbox_inches='tight', rasterized=True, dpi=300) \n"
   ]
  }
 ],
 "metadata": {
  "kernelspec": {
   "display_name": "Python 2",
   "language": "python",
   "name": "python2"
  },
  "language_info": {
   "codemirror_mode": {
    "name": "ipython",
    "version": 2
   },
   "file_extension": ".py",
   "mimetype": "text/x-python",
   "name": "python",
   "nbconvert_exporter": "python",
   "pygments_lexer": "ipython2",
   "version": "2.7.13"
  }
 },
 "nbformat": 4,
 "nbformat_minor": 2
}
