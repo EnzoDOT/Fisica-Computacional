{
 "cells": [
  {
   "cell_type": "code",
   "execution_count": 10,
   "metadata": {},
   "outputs": [
    {
     "name": "stdout",
     "output_type": "stream",
     "text": [
      "[1.25, 1.4, 1.85, 2.0, 0.5, 1.55, 0.8, 1.1, 0.95, 1.7, 0.65, 0.728] [-2.898383145882512, -2.7252269754330642, -1.9653673171365076, -1.8439442183557895, -4.035450322367902, -2.5204118679504113, -3.621807347719575, -3.1576058558077658, -3.3264976713045082, -2.3376453009397005, -3.8227974716104676, -3.703489752480005]\n"
     ]
    },
    {
     "ename": "TypeError",
     "evalue": "'float' object is not iterable",
     "output_type": "error",
     "traceback": [
      "\u001b[0;31m---------------------------------------------------------------------------\u001b[0m",
      "\u001b[0;31mTypeError\u001b[0m                                 Traceback (most recent call last)",
      "\u001b[0;32m<ipython-input-10-604cba339c06>\u001b[0m in \u001b[0;36m<module>\u001b[0;34m()\u001b[0m\n\u001b[1;32m     81\u001b[0m \u001b[0myFit\u001b[0m \u001b[0;34m=\u001b[0m \u001b[0mappendE\u001b[0m\u001b[0;34m[\u001b[0m \u001b[0mcond\u001b[0m \u001b[0;34m]\u001b[0m\u001b[0;34m\u001b[0m\u001b[0m\n\u001b[1;32m     82\u001b[0m \u001b[0;34m\u001b[0m\u001b[0m\n\u001b[0;32m---> 83\u001b[0;31m \u001b[0mx_new\u001b[0m \u001b[0;34m=\u001b[0m \u001b[0mnp\u001b[0m\u001b[0;34m.\u001b[0m\u001b[0mlinspace\u001b[0m\u001b[0;34m(\u001b[0m\u001b[0mmin\u001b[0m\u001b[0;34m(\u001b[0m\u001b[0mxFit\u001b[0m\u001b[0;34m)\u001b[0m\u001b[0;34m,\u001b[0m\u001b[0;36m1.1\u001b[0m\u001b[0;34m,\u001b[0m \u001b[0mnum\u001b[0m\u001b[0;34m=\u001b[0m\u001b[0mlen\u001b[0m\u001b[0;34m(\u001b[0m\u001b[0mxFit\u001b[0m\u001b[0;34m)\u001b[0m\u001b[0;34m*\u001b[0m\u001b[0;36m10\u001b[0m\u001b[0;34m)\u001b[0m\u001b[0;34m\u001b[0m\u001b[0m\n\u001b[0m\u001b[1;32m     84\u001b[0m \u001b[0mcoefs\u001b[0m \u001b[0;34m=\u001b[0m \u001b[0mpoly\u001b[0m\u001b[0;34m.\u001b[0m\u001b[0mpolyfit\u001b[0m\u001b[0;34m(\u001b[0m\u001b[0mxFit\u001b[0m\u001b[0;34m,\u001b[0m\u001b[0myFit\u001b[0m \u001b[0;34m,\u001b[0m \u001b[0;36m1\u001b[0m\u001b[0;34m)\u001b[0m\u001b[0;34m\u001b[0m\u001b[0m\n\u001b[1;32m     85\u001b[0m \u001b[0mffit\u001b[0m \u001b[0;34m=\u001b[0m \u001b[0mpoly\u001b[0m\u001b[0;34m.\u001b[0m\u001b[0mpolyval\u001b[0m\u001b[0;34m(\u001b[0m\u001b[0mx_new\u001b[0m\u001b[0;34m,\u001b[0m \u001b[0mcoefs\u001b[0m\u001b[0;34m)\u001b[0m\u001b[0;34m\u001b[0m\u001b[0m\n",
      "\u001b[0;31mTypeError\u001b[0m: 'float' object is not iterable"
     ]
    },
    {
     "data": {
      "image/png": "[encoded data removed]",
      "text/plain": [
       "<matplotlib.figure.Figure at 0x7f7cb89657d0>"
      ]
     },
     "metadata": {},
     "output_type": "display_data"
    }
   ],
   "source": [
    "%matplotlib inline\n",
    "\n",
    "import numpy as np\n",
    "import matplotlib.pyplot as plt\n",
    "import pandas as pd\n",
    "from astropy.io import ascii\n",
    "import matplotlib.colors as colors\n",
    "from matplotlib import *\n",
    "import sys\n",
    "from pylab import *\n",
    "from matplotlib.colors import LogNorm\n",
    "import scipy.integrate as integrate\n",
    "import scipy\n",
    "#import pymc\n",
    "from astropy.io import fits\n",
    "import math\n",
    "import os,glob\n",
    "import matplotlib.patches as mpatches\n",
    "import numpy.polynomial.polynomial as poly\n",
    "\n",
    "\n",
    "\n",
    "mylist11 = []\n",
    "mylist12 = []\n",
    "\n",
    "\n",
    "plt.rcParams['text.usetex'] = False\n",
    "plt.rcParams['font.family'] = 'serif'\n",
    "#mpl.rcParams['font.size'] = 13\n",
    "plt.rcParams['xtick.labelsize'] = 13\n",
    "plt.rcParams['ytick.labelsize'] = 13\n",
    "#mpl.rcParams['axes.labelsize'] = 18\n",
    "\n",
    "fig = plt.figure(figsize=(8,15)) # Notice the equal aspect ratio\n",
    "\n",
    "\n",
    "# equivalent but more general\n",
    "ax1=plt.subplot(2,1, 1)#, gridspec_kw={\"width_ratios\":1})\n",
    "ax2=plt.subplot(2,1, 2)#, gridspec_kw={\"width_ratios\":1}) \n",
    "\n",
    "\n",
    "fig.subplots_adjust(wspace=0, hspace=0.05)\n",
    "#ax1.set_xlim(0.05,1.)\n",
    "#ax1.set_ylim(2.2,2.6)\n",
    "#ax2.set_xlim(0.05,1.)\n",
    "#ax2.set_ylim(0.,0.7)\n",
    "ax1.tick_params(which=\"both\",direction='in', bottom=\"on\", top=\"on\", left=\"on\", right=\"on\")\n",
    "ax2.tick_params(which=\"both\",direction='in', bottom=\"on\", top=\"on\", left=\"on\", right=\"on\")\n",
    "ax1.axes.xaxis.set_ticklabels([])\n",
    "ax1.set_ylabel(r'$E_{tot}$',fontsize=40)\n",
    "ax2.set_ylabel(r'$\\left \\langle C _{v} \\right \\rangle$',fontsize=40)\n",
    "ax2.set_xlabel(r'$T$',fontsize=30)\n",
    "\n",
    "appendT = []\n",
    "appendE = []\n",
    "\n",
    "\n",
    "folder_path = '/home/pedro/Desktop/Fisica-Computacional-master/MD/corridas/Data/'\n",
    "for filename in glob.glob(os.path.join(folder_path,'Etot'+'_'+'*.dat')):\n",
    "    filenameT=filename.split('=')[3]\n",
    "    filenameT=filenameT.split('.d')[0]\n",
    "    Tint=float(filenameT)\n",
    "    data = pd.read_table(filename, header=None, sep=\"\\s+\")\n",
    "    data = data[data.iloc[:,0].between(0.499, 99.9,inclusive=True)]        #appended_data.append(data)\n",
    "\n",
    "    kmag        =data.iloc[:,0]\n",
    "    Mag         =data.iloc[:,1]\n",
    "    x=kmag\n",
    "    y=Mag\n",
    "    Emean=np.mean(Mag)\n",
    "    \n",
    "    appendT.append(Tint)\n",
    "    appendE.append(Emean)\n",
    "\n",
    "    ax1.scatter(Tint, Emean, linewidth=0.5,label=r'T = %.3f' %(Tint))\n",
    "\n",
    "    \n",
    "cond = (appendT>min(appendT)) & (appendT<max(appendT))\n",
    "xFit = appendT[ cond ]\n",
    "yFit = appendE[ cond ]\n",
    "\n",
    "x_new = np.linspace(min(xFit),1.1, num=len(xFit)*10)\n",
    "coefs = poly.polyfit(xFit,yFit , 1)\n",
    "ffit = poly.polyval(x_new, coefs)\n",
    "axes = plt.gca()\n",
    "ax1.plot(x_new,ffit, linewidth=1,color='k', label=r'$C_{v} = %.2f$' %(coefs[1]))\n",
    "\n",
    "    \n",
    "            \n",
    "folder_path = '/home/pedro/Desktop/Fisica-Computacional-master/MD/corridas/Data/'\n",
    "for filename in glob.glob(os.path.join(folder_path,'Etot'+'_'+'*.dat')):\n",
    "    filenameT=filename.split('=')[3]\n",
    "    filenameT=filenameT.split('.d')[0]\n",
    "    Tint=float(filenameT)\n",
    "    dataDMO = pd.read_table(filename, header=None, sep=\"\\s+\")\n",
    "    dataDMO = dataDMO[dataDMO.iloc[:,0].between(0.499, 99.9,inclusive=True)]        #appended_data.append(data)\n",
    "    ken        =dataDMO.iloc[:,0]\n",
    "    En         =dataDMO.iloc[:,1]\n",
    "    ECv=np.std(En)\n",
    "\n",
    "    x=ken\n",
    "    y=En\n",
    "    ax2.scatter(Tint, ECv, linewidth=1.,label=r'T = %.3f' %(Tint))\n",
    "    \n",
    "\n",
    "        \n",
    "ax1.legend(fontsize=10.)\n",
    "ax2.legend(fontsize=10.)\n",
    "\n",
    "\n",
    "\n",
    "plt.savefig('/home/pedro/Desktop/Fisica-Computacional-master/MD/Cv.pdf', bbox_inches='tight', rasterized=True, dpi=300) ### for publication\n",
    "\n",
    "\n",
    "\n"
   ]
  },
  {
   "cell_type": "code",
   "execution_count": null,
   "metadata": {
    "collapsed": true
   },
   "outputs": [],
   "source": []
  }
 ],
 "metadata": {
  "kernelspec": {
   "display_name": "Python 2",
   "language": "python",
   "name": "python2"
  },
  "language_info": {
   "codemirror_mode": {
    "name": "ipython",
    "version": 2
   },
   "file_extension": ".py",
   "mimetype": "text/x-python",
   "name": "python",
   "nbconvert_exporter": "python",
   "pygments_lexer": "ipython2",
   "version": "2.7.13"
  }
 },
 "nbformat": 4,
 "nbformat_minor": 2
}
