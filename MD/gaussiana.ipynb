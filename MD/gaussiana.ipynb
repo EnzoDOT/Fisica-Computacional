{
 "cells": [
  {
   "cell_type": "code",
   "execution_count": 4,
   "metadata": {},
   "outputs": [],
   "source": [
    "import matplotlib.pylab as plt\n",
    "import numpy as np\n",
    "\n",
    "data = np.loadtxt(\"gaussiana.dat\")"
   ]
  },
  {
   "cell_type": "code",
   "execution_count": 5,
   "metadata": {},
   "outputs": [
    {
     "data": {
      "text/plain": [
       "(array([1.000e+00, 2.000e+00, 2.000e+00, 8.000e+00, 1.200e+01, 1.600e+01,\n",
       "        2.400e+01, 4.000e+01, 5.500e+01, 8.400e+01, 1.190e+02, 1.600e+02,\n",
       "        2.040e+02, 2.830e+02, 3.420e+02, 4.400e+02, 5.350e+02, 5.980e+02,\n",
       "        7.710e+02, 8.540e+02, 9.390e+02, 9.720e+02, 1.078e+03, 1.221e+03,\n",
       "        1.177e+03, 1.135e+03, 1.129e+03, 1.086e+03, 1.067e+03, 9.510e+02,\n",
       "        8.820e+02, 7.560e+02, 6.160e+02, 5.060e+02, 4.880e+02, 3.700e+02,\n",
       "        2.670e+02, 2.350e+02, 1.460e+02, 1.400e+02, 9.600e+01, 6.700e+01,\n",
       "        5.300e+01, 3.200e+01, 2.000e+01, 1.200e+01, 6.000e+00, 1.000e+00,\n",
       "        1.000e+00, 1.000e+00]),\n",
       " array([-3.722766  , -3.57519526, -3.42762452, -3.28005378, -3.13248304,\n",
       "        -2.9849123 , -2.83734156, -2.68977082, -2.54220008, -2.39462934,\n",
       "        -2.2470586 , -2.09948786, -1.95191712, -1.80434638, -1.65677564,\n",
       "        -1.5092049 , -1.36163416, -1.21406342, -1.06649268, -0.91892194,\n",
       "        -0.7713512 , -0.62378046, -0.47620972, -0.32863898, -0.18106824,\n",
       "        -0.0334975 ,  0.11407324,  0.26164398,  0.40921472,  0.55678546,\n",
       "         0.7043562 ,  0.85192694,  0.99949768,  1.14706842,  1.29463916,\n",
       "         1.4422099 ,  1.58978064,  1.73735138,  1.88492212,  2.03249286,\n",
       "         2.1800636 ,  2.32763434,  2.47520508,  2.62277582,  2.77034656,\n",
       "         2.9179173 ,  3.06548804,  3.21305878,  3.36062952,  3.50820026,\n",
       "         3.655771  ]),\n",
       " <a list of 50 Patch objects>)"
      ]
     },
     "execution_count": 5,
     "metadata": {},
     "output_type": "execute_result"
    },
    {
     "data": {
      "image/png": "[encoded data removed]",
      "text/plain": [
       "<matplotlib.figure.Figure at 0x7f192cd2be10>"
      ]
     },
     "metadata": {
      "needs_background": "light"
     },
     "output_type": "display_data"
    }
   ],
   "source": [
    "plt.hist(data,bins=50)"
   ]
  },
  {
   "cell_type": "code",
   "execution_count": null,
   "metadata": {},
   "outputs": [],
   "source": []
  }
 ],
 "metadata": {
  "kernelspec": {
   "display_name": "Python 3",
   "language": "python",
   "name": "python3"
  },
  "language_info": {
   "codemirror_mode": {
    "name": "ipython",
    "version": 3
   },
   "file_extension": ".py",
   "mimetype": "text/x-python",
   "name": "python",
   "nbconvert_exporter": "python",
   "pygments_lexer": "ipython3",
   "version": "3.6.7"
  }
 },
 "nbformat": 4,
 "nbformat_minor": 2
}
