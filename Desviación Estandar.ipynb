{
 "cells": [
  {
   "cell_type": "code",
   "execution_count": 47,
   "metadata": {},
   "outputs": [
    {
     "name": "stdout",
     "output_type": "stream",
     "text": [
      "0.5926175119392898\n"
     ]
    },
    {
     "data": {
      "image/png": "[encoded data removed]",
      "text/plain": [
       "<Figure size 432x288 with 1 Axes>"
      ]
     },
     "metadata": {
      "needs_background": "light"
     },
     "output_type": "display_data"
    }
   ],
   "source": [
    "%matplotlib inline\n",
    "\n",
    "import numpy as np\n",
    "import matplotlib.pyplot as plt\n",
    "import pandas as pd\n",
    "from astropy.io import ascii\n",
    "import matplotlib.colors as colors\n",
    "from matplotlib import *\n",
    "import sys\n",
    "from pylab import *\n",
    "from matplotlib.colors import LogNorm\n",
    "import scipy.integrate as integrate\n",
    "import scipy\n",
    "from astropy.io import fits\n",
    "import math\n",
    "import os,glob\n",
    "import matplotlib.patches as mpatches\n",
    "from scipy.interpolate import splrep, splev\n",
    "import numpy.polynomial.polynomial as poly\n",
    "\n",
    "\n",
    "\n",
    "N=27000\n",
    "mylist4  = []\n",
    "mylist8  = []\n",
    "mylist16  = []\n",
    "mylist32  = []\n",
    "mylist64  = []\n",
    "mylist128  = []\n",
    "\n",
    "p4=np.zeros((N,), dtype=np.float)\n",
    "p8=np.zeros((N,), dtype=np.float)\n",
    "p16=np.zeros((N,), dtype=np.float)\n",
    "p32=np.zeros((N,), dtype=np.float)\n",
    "p64=np.zeros((N,), dtype=np.float)\n",
    "p128=np.zeros((N,), dtype=np.float)\n",
    "\n",
    "with open('/home/enzo/Desktop/FisicaComp/dispersionA_L=4.dat', 'r') as Gf:\n",
    "    for line in Gf:\n",
    "        mylist4.append(line)\n",
    "Gf.close()\n",
    "\n",
    "for i in range(N): \n",
    "        lista = mylist4[i].split()\n",
    "        p4[i] = float(lista[0])\n",
    "\n",
    "with open('/home/enzo/Desktop/FisicaComp/dispersionA_L=8.dat', 'r') as Gf:\n",
    "    for line in Gf:\n",
    "        mylist8.append(line)\n",
    "Gf.close()\n",
    "\n",
    "for i in range(N): \n",
    "        lista = mylist8[i].split()\n",
    "        p8[i] = float(lista[0])\n",
    "with open('/home/enzo/Desktop/FisicaComp/dispersionA_L=16.dat', 'r') as Gf:\n",
    "    for line in Gf:\n",
    "        mylist16.append(line)\n",
    "Gf.close()\n",
    "\n",
    "for i in range(N): \n",
    "        lista = mylist16[i].split()\n",
    "        p16[i] = float(lista[0])\n",
    "\n",
    "with open('/home/enzo/Desktop/FisicaComp/dispersionA_L=32.dat', 'r') as Gf:\n",
    "    for line in Gf:\n",
    "        mylist32.append(line)\n",
    "Gf.close()\n",
    "\n",
    "for i in range(N): \n",
    "        lista = mylist32[i].split()\n",
    "        p32[i] = float(lista[0])\n",
    "\n",
    "with open('/home/enzo/Desktop/FisicaComp/dispersionA_L=64.dat', 'r') as Gf:\n",
    "    for line in Gf:\n",
    "        mylist64.append(line)\n",
    "Gf.close()\n",
    "\n",
    "for i in range(N): \n",
    "        lista = mylist64[i].split()\n",
    "        p64[i] = float(lista[0])\n",
    "        \n",
    "with open('/home/enzo/Desktop/FisicaComp/dispersionA_L=128.dat', 'r') as Gf:\n",
    "    for line in Gf:\n",
    "        mylist128.append(line)\n",
    "Gf.close()\n",
    "\n",
    "for i in range(N): \n",
    "        lista = mylist128[i].split()\n",
    "        p128[i] = float(lista[0])   \n",
    "        \n",
    "x = np.array([(np.std(p4)),(np.std(p8)),(np.std(p16)),(np.std(p32)),(np.std(p64)),(np.std(p128))])        \n",
    "y = np.array([(np.mean(p4)),(np.mean(p8)),(np.mean(p16)),(np.mean(p32)),(np.mean(p64)),(np.mean(p128))])         \n",
    "\n",
    "#trend = np.polyfit(x, y, 5)\n",
    "\n",
    "#trendpoly = np.poly1d(trend) \n",
    "#plt.plot(x,trendpoly(x))\n",
    "#plt.scatter(x, y)\n",
    "\n",
    "x_new = np.linspace(0., 0.15, num=len(x)*10)\n",
    "coefs = poly.polyfit(x,y , 3)\n",
    "ffit = poly.polyval(x_new, coefs)\n",
    "\n",
    "plt.scatter(x,y)\n",
    "plt.plot(x_new,ffit, label=r'$p_{c}(\\infty)=0.592$')\n",
    "\n",
    "print (poly.polyval(0, coefs))\n",
    "\n",
    "plt.legend(fontsize=15.,frameon=False)\n",
    "\n",
    "plt.savefig('/home/enzo/Desktop/FisicaComp/extrapolacionA.pdf', bbox_inches='tight', rasterized=True, dpi=300) \n"
   ]
  },
  {
   "cell_type": "code",
   "execution_count": null,
   "metadata": {
    "collapsed": true
   },
   "outputs": [],
   "source": []
  }
 ],
 "metadata": {
  "kernelspec": {
   "display_name": "Python 3",
   "language": "python",
   "name": "python3"
  },
  "language_info": {
   "codemirror_mode": {
    "name": "ipython",
    "version": 3
   },
   "file_extension": ".py",
   "mimetype": "text/x-python",
   "name": "python",
   "nbconvert_exporter": "python",
   "pygments_lexer": "ipython3",
   "version": "3.7.1"
  }
 },
 "nbformat": 4,
 "nbformat_minor": 2
}
