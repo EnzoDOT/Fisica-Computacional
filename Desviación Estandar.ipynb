{
 "cells": [
  {
   "cell_type": "code",
   "execution_count": 4,
   "metadata": {},
   "outputs": [
    {
     "name": "stdout",
     "output_type": "stream",
     "text": [
      "0.012899664408\n",
      "0.0173270470698\n"
     ]
    }
   ],
   "source": [
    "import numpy as np\n",
    "import matplotlib.pyplot as plt\n",
    "from astropy.io import ascii\n",
    "import matplotlib.colors as colors\n",
    "from matplotlib import *\n",
    "import sys\n",
    "from pylab import *\n",
    "from matplotlib.colors import LogNorm\n",
    "import scipy.integrate as integrate\n",
    "import scipy\n",
    "\n",
    "\n",
    "mylist  = []\n",
    "mylist2 = []\n",
    "pa=np.zeros((5,), dtype=np.float)\n",
    "dima=np.zeros((5,), dtype=np.int)\n",
    "pb=np.zeros((5,), dtype=np.float)\n",
    "dimb=np.zeros((5,), dtype=np.int)\n",
    "\n",
    "with open('/home/pedro/Desktop/dispersionA.dat', 'r') as Gf:\n",
    "    for line in Gf:\n",
    "        mylist.append(line)\n",
    "Gf.close()\n",
    "\n",
    "for i in range(5): \n",
    "        lista = mylist[i].split()\n",
    "        pa[i] = float(lista[0])\n",
    "        dima[i] = float(lista[1])\n",
    "        \n",
    "\n",
    "with open('/home/pedro/Desktop/dispersionB.dat', 'r') as Gf2:\n",
    "    for line in Gf2:\n",
    "        mylist2.append(line)\n",
    "Gf2.close()     \n",
    "for i in range(5):\n",
    "        lista = mylist2[i].split()\n",
    "        pb[i] = float(lista[0])\n",
    "        dimb[i] = float(lista[1])\n",
    "print np.std(pa)\n",
    "print np.std(pb)\n",
    "\n",
    "     \n",
    "        \n",
    "\n",
    "\n"
   ]
  },
  {
   "cell_type": "code",
   "execution_count": null,
   "metadata": {
    "collapsed": true
   },
   "outputs": [],
   "source": []
  }
 ],
 "metadata": {
  "kernelspec": {
   "display_name": "Python 2",
   "language": "python",
   "name": "python2"
  },
  "language_info": {
   "codemirror_mode": {
    "name": "ipython",
    "version": 2
   },
   "file_extension": ".py",
   "mimetype": "text/x-python",
   "name": "python",
   "nbconvert_exporter": "python",
   "pygments_lexer": "ipython2",
   "version": "2.7.13"
  }
 },
 "nbformat": 4,
 "nbformat_minor": 2
}
